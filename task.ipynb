{
 "cells": [
  {
   "cell_type": "markdown",
   "metadata": {},
   "source": [
    "# 1.For the given task the step one is to load the data and perform data cleaning"
   ]
  },
  {
   "cell_type": "code",
   "execution_count": null,
   "metadata": {},
   "outputs": [],
   "source": [
    "import pandas as pd\n",
    "import numpy as np\n",
    "\n",
    "# Load the dataset\n",
    "dataset_path = \"TestbedMonJun14Flows.csv\"  \n",
    "df = pd.read_csv(dataset_path)"
   ]
  },
  {
   "cell_type": "code",
   "execution_count": 2,
   "metadata": {},
   "outputs": [
    {
     "name": "stdout",
     "output_type": "stream",
     "text": [
      "Dataset Info:\n",
      "<class 'pandas.core.frame.DataFrame'>\n",
      "RangeIndex: 171380 entries, 0 to 171379\n",
      "Data columns (total 21 columns):\n",
      " #   Column                          Non-Null Count   Dtype  \n",
      "---  ------                          --------------   -----  \n",
      " 0   generated                       171380 non-null  object \n",
      " 1   appName                         171380 non-null  object \n",
      " 2   totalSourceBytes                171380 non-null  int64  \n",
      " 3   totalDestinationBytes           171380 non-null  int64  \n",
      " 4   totalDestinationPackets         171380 non-null  int64  \n",
      " 5   totalSourcePackets              171380 non-null  int64  \n",
      " 6   sourcePayloadAsBase64           84579 non-null   object \n",
      " 7   sourcePayloadAsUTF              0 non-null       float64\n",
      " 8   destinationPayloadAsBase64      74634 non-null   object \n",
      " 9   destinationPayloadAsUTF         74616 non-null   object \n",
      " 10  direction                       171380 non-null  object \n",
      " 11  sourceTCPFlagsDescription       122074 non-null  object \n",
      " 12  destinationTCPFlagsDescription  117397 non-null  object \n",
      " 13  source                          171380 non-null  object \n",
      " 14  protocolName                    171380 non-null  object \n",
      " 15  sourcePort                      171380 non-null  int64  \n",
      " 16  destination                     171380 non-null  object \n",
      " 17  destinationPort                 171380 non-null  int64  \n",
      " 18  startDateTime                   171380 non-null  object \n",
      " 19  stopDateTime                    171380 non-null  object \n",
      " 20  Label                           171380 non-null  object \n",
      "dtypes: float64(1), int64(6), object(14)\n",
      "memory usage: 27.5+ MB\n",
      "None\n"
     ]
    }
   ],
   "source": [
    "#Taking an description of the data to understand the attribute values this will be useful in feature selection :\n",
    "print(\"Dataset Info:\")\n",
    "print(df.info())"
   ]
  },
  {
   "cell_type": "code",
   "execution_count": null,
   "metadata": {},
   "outputs": [
    {
     "data": {
      "text/html": [
       "<div>\n",
       "<style scoped>\n",
       "    .dataframe tbody tr th:only-of-type {\n",
       "        vertical-align: middle;\n",
       "    }\n",
       "\n",
       "    .dataframe tbody tr th {\n",
       "        vertical-align: top;\n",
       "    }\n",
       "\n",
       "    .dataframe thead th {\n",
       "        text-align: right;\n",
       "    }\n",
       "</style>\n",
       "<table border=\"1\" class=\"dataframe\">\n",
       "  <thead>\n",
       "    <tr style=\"text-align: right;\">\n",
       "      <th></th>\n",
       "      <th>generated</th>\n",
       "      <th>appName</th>\n",
       "      <th>totalSourceBytes</th>\n",
       "      <th>totalDestinationBytes</th>\n",
       "      <th>totalDestinationPackets</th>\n",
       "      <th>totalSourcePackets</th>\n",
       "      <th>sourcePayloadAsBase64</th>\n",
       "      <th>sourcePayloadAsUTF</th>\n",
       "      <th>destinationPayloadAsBase64</th>\n",
       "      <th>destinationPayloadAsUTF</th>\n",
       "      <th>...</th>\n",
       "      <th>sourceTCPFlagsDescription</th>\n",
       "      <th>destinationTCPFlagsDescription</th>\n",
       "      <th>source</th>\n",
       "      <th>protocolName</th>\n",
       "      <th>sourcePort</th>\n",
       "      <th>destination</th>\n",
       "      <th>destinationPort</th>\n",
       "      <th>startDateTime</th>\n",
       "      <th>stopDateTime</th>\n",
       "      <th>Label</th>\n",
       "    </tr>\n",
       "  </thead>\n",
       "  <tbody>\n",
       "    <tr>\n",
       "      <th>0</th>\n",
       "      <td>3/11/2014 18:21</td>\n",
       "      <td>Unknown_UDP</td>\n",
       "      <td>16076</td>\n",
       "      <td>0</td>\n",
       "      <td>0</td>\n",
       "      <td>178</td>\n",
       "      <td>NaN</td>\n",
       "      <td>NaN</td>\n",
       "      <td>NaN</td>\n",
       "      <td>NaN</td>\n",
       "      <td>...</td>\n",
       "      <td>NaN</td>\n",
       "      <td>NaN</td>\n",
       "      <td>192.168.5.122</td>\n",
       "      <td>udp_ip</td>\n",
       "      <td>5353</td>\n",
       "      <td>224.0.0.251</td>\n",
       "      <td>5353</td>\n",
       "      <td>6/13/2010 23:57</td>\n",
       "      <td>6/14/2010 0:11</td>\n",
       "      <td>Normal</td>\n",
       "    </tr>\n",
       "    <tr>\n",
       "      <th>1</th>\n",
       "      <td>3/11/2014 18:21</td>\n",
       "      <td>HTTPImageTransfer</td>\n",
       "      <td>384</td>\n",
       "      <td>0</td>\n",
       "      <td>0</td>\n",
       "      <td>6</td>\n",
       "      <td>NaN</td>\n",
       "      <td>NaN</td>\n",
       "      <td>NaN</td>\n",
       "      <td>NaN</td>\n",
       "      <td>...</td>\n",
       "      <td>F,A</td>\n",
       "      <td>NaN</td>\n",
       "      <td>192.168.2.111</td>\n",
       "      <td>tcp_ip</td>\n",
       "      <td>4435</td>\n",
       "      <td>206.217.198.186</td>\n",
       "      <td>80</td>\n",
       "      <td>6/13/2010 23:58</td>\n",
       "      <td>6/14/2010 0:01</td>\n",
       "      <td>Normal</td>\n",
       "    </tr>\n",
       "    <tr>\n",
       "      <th>2</th>\n",
       "      <td>3/11/2014 18:21</td>\n",
       "      <td>DNS</td>\n",
       "      <td>171</td>\n",
       "      <td>642</td>\n",
       "      <td>4</td>\n",
       "      <td>2</td>\n",
       "      <td>NaN</td>\n",
       "      <td>NaN</td>\n",
       "      <td>NaN</td>\n",
       "      <td>NaN</td>\n",
       "      <td>...</td>\n",
       "      <td>NaN</td>\n",
       "      <td>NaN</td>\n",
       "      <td>192.168.4.119</td>\n",
       "      <td>udp_ip</td>\n",
       "      <td>4428</td>\n",
       "      <td>192.168.5.122</td>\n",
       "      <td>53</td>\n",
       "      <td>6/13/2010 23:58</td>\n",
       "      <td>6/13/2010 23:59</td>\n",
       "      <td>Normal</td>\n",
       "    </tr>\n",
       "    <tr>\n",
       "      <th>3</th>\n",
       "      <td>3/11/2014 18:21</td>\n",
       "      <td>HTTPImageTransfer</td>\n",
       "      <td>384</td>\n",
       "      <td>0</td>\n",
       "      <td>0</td>\n",
       "      <td>6</td>\n",
       "      <td>NaN</td>\n",
       "      <td>NaN</td>\n",
       "      <td>NaN</td>\n",
       "      <td>NaN</td>\n",
       "      <td>...</td>\n",
       "      <td>F,A</td>\n",
       "      <td>NaN</td>\n",
       "      <td>192.168.4.119</td>\n",
       "      <td>tcp_ip</td>\n",
       "      <td>3639</td>\n",
       "      <td>219.94.203.105</td>\n",
       "      <td>80</td>\n",
       "      <td>6/13/2010 23:58</td>\n",
       "      <td>6/14/2010 0:00</td>\n",
       "      <td>Normal</td>\n",
       "    </tr>\n",
       "    <tr>\n",
       "      <th>4</th>\n",
       "      <td>3/11/2014 18:21</td>\n",
       "      <td>HTTPImageTransfer</td>\n",
       "      <td>186</td>\n",
       "      <td>128</td>\n",
       "      <td>2</td>\n",
       "      <td>2</td>\n",
       "      <td>NaN</td>\n",
       "      <td>NaN</td>\n",
       "      <td>NaN</td>\n",
       "      <td>NaN</td>\n",
       "      <td>...</td>\n",
       "      <td>F,P,A</td>\n",
       "      <td>R</td>\n",
       "      <td>192.168.4.119</td>\n",
       "      <td>tcp_ip</td>\n",
       "      <td>3641</td>\n",
       "      <td>98.137.80.50</td>\n",
       "      <td>80</td>\n",
       "      <td>6/13/2010 23:58</td>\n",
       "      <td>6/13/2010 23:59</td>\n",
       "      <td>Normal</td>\n",
       "    </tr>\n",
       "    <tr>\n",
       "      <th>...</th>\n",
       "      <td>...</td>\n",
       "      <td>...</td>\n",
       "      <td>...</td>\n",
       "      <td>...</td>\n",
       "      <td>...</td>\n",
       "      <td>...</td>\n",
       "      <td>...</td>\n",
       "      <td>...</td>\n",
       "      <td>...</td>\n",
       "      <td>...</td>\n",
       "      <td>...</td>\n",
       "      <td>...</td>\n",
       "      <td>...</td>\n",
       "      <td>...</td>\n",
       "      <td>...</td>\n",
       "      <td>...</td>\n",
       "      <td>...</td>\n",
       "      <td>...</td>\n",
       "      <td>...</td>\n",
       "      <td>...</td>\n",
       "      <td>...</td>\n",
       "    </tr>\n",
       "    <tr>\n",
       "      <th>171374</th>\n",
       "      <td>3/11/2014 18:21</td>\n",
       "      <td>NetBIOS-IP</td>\n",
       "      <td>108</td>\n",
       "      <td>0</td>\n",
       "      <td>0</td>\n",
       "      <td>1</td>\n",
       "      <td>iMuFAAAAAAEAAAAAIEZFRUZGREZFRUNFRkVFREJERENBQ0...</td>\n",
       "      <td>NaN</td>\n",
       "      <td>NaN</td>\n",
       "      <td>NaN</td>\n",
       "      <td>...</td>\n",
       "      <td>NaN</td>\n",
       "      <td>NaN</td>\n",
       "      <td>192.168.2.113</td>\n",
       "      <td>udp_ip</td>\n",
       "      <td>137</td>\n",
       "      <td>192.168.2.112</td>\n",
       "      <td>137</td>\n",
       "      <td>6/14/2010 23:58</td>\n",
       "      <td>6/14/2010 23:58</td>\n",
       "      <td>Normal</td>\n",
       "    </tr>\n",
       "    <tr>\n",
       "      <th>171375</th>\n",
       "      <td>3/11/2014 18:21</td>\n",
       "      <td>WindowsFileSharing</td>\n",
       "      <td>2759</td>\n",
       "      <td>2444</td>\n",
       "      <td>16</td>\n",
       "      <td>17</td>\n",
       "      <td>gQAARCBGRUVGRkRGRUVDRUZFRURBRERDQUNBQ0FDQUNBQ0...</td>\n",
       "      <td>NaN</td>\n",
       "      <td>ggAAAAAAAFX/U01CcgAAAACYU8gAAAAAAAAAAAAAAAAAAP...</td>\n",
       "      <td>.U.SMBr.S.............x..7.......L...G..}..r.....</td>\n",
       "      <td>...</td>\n",
       "      <td>F,S,P,A</td>\n",
       "      <td>F,S,P,A</td>\n",
       "      <td>192.168.1.101</td>\n",
       "      <td>tcp_ip</td>\n",
       "      <td>4858</td>\n",
       "      <td>192.168.1.103</td>\n",
       "      <td>139</td>\n",
       "      <td>6/14/2010 23:58</td>\n",
       "      <td>6/14/2010 23:58</td>\n",
       "      <td>Normal</td>\n",
       "    </tr>\n",
       "    <tr>\n",
       "      <th>171376</th>\n",
       "      <td>3/11/2014 18:21</td>\n",
       "      <td>Unknown_TCP</td>\n",
       "      <td>66</td>\n",
       "      <td>81</td>\n",
       "      <td>1</td>\n",
       "      <td>1</td>\n",
       "      <td>NaN</td>\n",
       "      <td>NaN</td>\n",
       "      <td>R28gYXdheSwgd2UncmUgbm90IGhvbWU=</td>\n",
       "      <td>Go away, we're not home</td>\n",
       "      <td>...</td>\n",
       "      <td>S</td>\n",
       "      <td>R,A</td>\n",
       "      <td>192.168.2.107</td>\n",
       "      <td>tcp_ip</td>\n",
       "      <td>2364</td>\n",
       "      <td>99.73.236.233</td>\n",
       "      <td>48967</td>\n",
       "      <td>6/14/2010 23:58</td>\n",
       "      <td>6/14/2010 23:58</td>\n",
       "      <td>Normal</td>\n",
       "    </tr>\n",
       "    <tr>\n",
       "      <th>171377</th>\n",
       "      <td>3/11/2014 18:21</td>\n",
       "      <td>Unknown_UDP</td>\n",
       "      <td>113</td>\n",
       "      <td>104</td>\n",
       "      <td>1</td>\n",
       "      <td>1</td>\n",
       "      <td>ZDE6YWQyOmlkMjA6rw5wzJNL+wP0x18OUoTf94/c28FlMT...</td>\n",
       "      <td>NaN</td>\n",
       "      <td>ZDE6cmQyOmlkMjA6dkyhzNqhf05DkE3Ih4qYDY787HRlMT...</td>\n",
       "      <td>d1:rd2:id20:vL....NC.M.......te1:t4:..1:v4:UT...</td>\n",
       "      <td>...</td>\n",
       "      <td>NaN</td>\n",
       "      <td>NaN</td>\n",
       "      <td>192.168.2.107</td>\n",
       "      <td>udp_ip</td>\n",
       "      <td>58040</td>\n",
       "      <td>59.93.220.198</td>\n",
       "      <td>25634</td>\n",
       "      <td>6/14/2010 23:58</td>\n",
       "      <td>6/14/2010 23:58</td>\n",
       "      <td>Normal</td>\n",
       "    </tr>\n",
       "    <tr>\n",
       "      <th>171378</th>\n",
       "      <td>3/11/2014 18:21</td>\n",
       "      <td>Unknown_TCP</td>\n",
       "      <td>66</td>\n",
       "      <td>81</td>\n",
       "      <td>1</td>\n",
       "      <td>1</td>\n",
       "      <td>NaN</td>\n",
       "      <td>NaN</td>\n",
       "      <td>R28gYXdheSwgd2UncmUgbm90IGhvbWU=</td>\n",
       "      <td>Go away, we're not home</td>\n",
       "      <td>...</td>\n",
       "      <td>S</td>\n",
       "      <td>R,A</td>\n",
       "      <td>192.168.2.107</td>\n",
       "      <td>tcp_ip</td>\n",
       "      <td>2364</td>\n",
       "      <td>99.73.236.233</td>\n",
       "      <td>48967</td>\n",
       "      <td>6/14/2010 23:58</td>\n",
       "      <td>6/14/2010 23:58</td>\n",
       "      <td>Normal</td>\n",
       "    </tr>\n",
       "  </tbody>\n",
       "</table>\n",
       "<p>171379 rows × 21 columns</p>\n",
       "</div>"
      ],
      "text/plain": [
       "              generated             appName  totalSourceBytes  \\\n",
       "0       3/11/2014 18:21         Unknown_UDP             16076   \n",
       "1       3/11/2014 18:21   HTTPImageTransfer               384   \n",
       "2       3/11/2014 18:21                 DNS               171   \n",
       "3       3/11/2014 18:21   HTTPImageTransfer               384   \n",
       "4       3/11/2014 18:21   HTTPImageTransfer               186   \n",
       "...                 ...                 ...               ...   \n",
       "171374  3/11/2014 18:21          NetBIOS-IP               108   \n",
       "171375  3/11/2014 18:21  WindowsFileSharing              2759   \n",
       "171376  3/11/2014 18:21         Unknown_TCP                66   \n",
       "171377  3/11/2014 18:21         Unknown_UDP               113   \n",
       "171378  3/11/2014 18:21         Unknown_TCP                66   \n",
       "\n",
       "        totalDestinationBytes  totalDestinationPackets  totalSourcePackets  \\\n",
       "0                           0                        0                 178   \n",
       "1                           0                        0                   6   \n",
       "2                         642                        4                   2   \n",
       "3                           0                        0                   6   \n",
       "4                         128                        2                   2   \n",
       "...                       ...                      ...                 ...   \n",
       "171374                      0                        0                   1   \n",
       "171375                   2444                       16                  17   \n",
       "171376                     81                        1                   1   \n",
       "171377                    104                        1                   1   \n",
       "171378                     81                        1                   1   \n",
       "\n",
       "                                    sourcePayloadAsBase64  sourcePayloadAsUTF  \\\n",
       "0                                                     NaN                 NaN   \n",
       "1                                                     NaN                 NaN   \n",
       "2                                                     NaN                 NaN   \n",
       "3                                                     NaN                 NaN   \n",
       "4                                                     NaN                 NaN   \n",
       "...                                                   ...                 ...   \n",
       "171374  iMuFAAAAAAEAAAAAIEZFRUZGREZFRUNFRkVFREJERENBQ0...                 NaN   \n",
       "171375  gQAARCBGRUVGRkRGRUVDRUZFRURBRERDQUNBQ0FDQUNBQ0...                 NaN   \n",
       "171376                                                NaN                 NaN   \n",
       "171377  ZDE6YWQyOmlkMjA6rw5wzJNL+wP0x18OUoTf94/c28FlMT...                 NaN   \n",
       "171378                                                NaN                 NaN   \n",
       "\n",
       "                               destinationPayloadAsBase64  \\\n",
       "0                                                     NaN   \n",
       "1                                                     NaN   \n",
       "2                                                     NaN   \n",
       "3                                                     NaN   \n",
       "4                                                     NaN   \n",
       "...                                                   ...   \n",
       "171374                                                NaN   \n",
       "171375  ggAAAAAAAFX/U01CcgAAAACYU8gAAAAAAAAAAAAAAAAAAP...   \n",
       "171376                   R28gYXdheSwgd2UncmUgbm90IGhvbWU=   \n",
       "171377  ZDE6cmQyOmlkMjA6dkyhzNqhf05DkE3Ih4qYDY787HRlMT...   \n",
       "171378                   R28gYXdheSwgd2UncmUgbm90IGhvbWU=   \n",
       "\n",
       "                                  destinationPayloadAsUTF  ...  \\\n",
       "0                                                     NaN  ...   \n",
       "1                                                     NaN  ...   \n",
       "2                                                     NaN  ...   \n",
       "3                                                     NaN  ...   \n",
       "4                                                     NaN  ...   \n",
       "...                                                   ...  ...   \n",
       "171374                                                NaN  ...   \n",
       "171375  .U.SMBr.S.............x..7.......L...G..}..r.....  ...   \n",
       "171376                            Go away, we're not home  ...   \n",
       "171377  d1:rd2:id20:vL....NC.M.......te1:t4:..1:v4:UT...  ...   \n",
       "171378                            Go away, we're not home  ...   \n",
       "\n",
       "       sourceTCPFlagsDescription destinationTCPFlagsDescription  \\\n",
       "0                            NaN                            NaN   \n",
       "1                            F,A                            NaN   \n",
       "2                            NaN                            NaN   \n",
       "3                            F,A                            NaN   \n",
       "4                          F,P,A                              R   \n",
       "...                          ...                            ...   \n",
       "171374                       NaN                            NaN   \n",
       "171375                   F,S,P,A                        F,S,P,A   \n",
       "171376                         S                            R,A   \n",
       "171377                       NaN                            NaN   \n",
       "171378                         S                            R,A   \n",
       "\n",
       "               source protocolName sourcePort      destination  \\\n",
       "0       192.168.5.122       udp_ip       5353      224.0.0.251   \n",
       "1       192.168.2.111       tcp_ip       4435  206.217.198.186   \n",
       "2       192.168.4.119       udp_ip       4428    192.168.5.122   \n",
       "3       192.168.4.119       tcp_ip       3639   219.94.203.105   \n",
       "4       192.168.4.119       tcp_ip       3641     98.137.80.50   \n",
       "...               ...          ...        ...              ...   \n",
       "171374  192.168.2.113       udp_ip        137    192.168.2.112   \n",
       "171375  192.168.1.101       tcp_ip       4858    192.168.1.103   \n",
       "171376  192.168.2.107       tcp_ip       2364    99.73.236.233   \n",
       "171377  192.168.2.107       udp_ip      58040    59.93.220.198   \n",
       "171378  192.168.2.107       tcp_ip       2364    99.73.236.233   \n",
       "\n",
       "       destinationPort    startDateTime     stopDateTime   Label  \n",
       "0                 5353  6/13/2010 23:57   6/14/2010 0:11  Normal  \n",
       "1                   80  6/13/2010 23:58   6/14/2010 0:01  Normal  \n",
       "2                   53  6/13/2010 23:58  6/13/2010 23:59  Normal  \n",
       "3                   80  6/13/2010 23:58   6/14/2010 0:00  Normal  \n",
       "4                   80  6/13/2010 23:58  6/13/2010 23:59  Normal  \n",
       "...                ...              ...              ...     ...  \n",
       "171374             137  6/14/2010 23:58  6/14/2010 23:58  Normal  \n",
       "171375             139  6/14/2010 23:58  6/14/2010 23:58  Normal  \n",
       "171376           48967  6/14/2010 23:58  6/14/2010 23:58  Normal  \n",
       "171377           25634  6/14/2010 23:58  6/14/2010 23:58  Normal  \n",
       "171378           48967  6/14/2010 23:58  6/14/2010 23:58  Normal  \n",
       "\n",
       "[171379 rows x 21 columns]"
      ]
     },
     "execution_count": 4,
     "metadata": {},
     "output_type": "execute_result"
    }
   ],
   "source": [
    "df.head(-1)\n",
    "#getting first and last 5 entries "
   ]
  },
  {
   "cell_type": "code",
   "execution_count": 5,
   "metadata": {},
   "outputs": [
    {
     "name": "stdout",
     "output_type": "stream",
     "text": [
      "\n",
      "Missing Values in Each Column:\n",
      "sourcePayloadAsBase64              86801\n",
      "sourcePayloadAsUTF                171380\n",
      "destinationPayloadAsBase64         96746\n",
      "destinationPayloadAsUTF            96764\n",
      "sourceTCPFlagsDescription          49306\n",
      "destinationTCPFlagsDescription     53983\n",
      "dtype: int64\n"
     ]
    }
   ],
   "source": [
    "# Step 1: Checking for missing values the total :\n",
    "missing_values = df.isnull().sum()\n",
    "print(\"\\nMissing Values in Each Column:\")\n",
    "print(missing_values[missing_values > 0])"
   ]
  },
  {
   "cell_type": "code",
   "execution_count": 6,
   "metadata": {},
   "outputs": [
    {
     "name": "stdout",
     "output_type": "stream",
     "text": [
      "\n",
      "Columns with more than 50% missing values removed.\n"
     ]
    }
   ],
   "source": [
    "#now the coloum with more than 50% of the data is missing is removed\n",
    "thres = len(df) * 0.5\n",
    "df = df.dropna(thresh=thres, axis=1) \n",
    "print(\"\\nColumns with more than 50% missing values removed.\")"
   ]
  },
  {
   "cell_type": "code",
   "execution_count": null,
   "metadata": {},
   "outputs": [
    {
     "name": "stdout",
     "output_type": "stream",
     "text": [
      "\n",
      "Missing Values in Each Column:\n",
      "sourceTCPFlagsDescription         49306\n",
      "destinationTCPFlagsDescription    53983\n",
      "dtype: int64\n"
     ]
    }
   ],
   "source": [
    "missing_values = df.isnull().sum()\n",
    "print(\"\\nMissing Values in Each Column:\")\n",
    "print(missing_values[missing_values > 0])\n",
    "# now most of the missing values are gone "
   ]
  },
  {
   "cell_type": "code",
   "execution_count": null,
   "metadata": {},
   "outputs": [],
   "source": [
    "#Now for the remaining values we will fill them with mean and median of the whole coloumn \n",
    "#identifing numeric and catergoical coloums in this first\n",
    "numeric_cols = df.select_dtypes(include=['number']).columns\n",
    "categorical_cols = df.select_dtypes(include=['object']).columns"
   ]
  },
  {
   "cell_type": "code",
   "execution_count": 9,
   "metadata": {},
   "outputs": [],
   "source": [
    "for col in numeric_cols:\n",
    "    if df[col].isnull().sum() > 0:\n",
    "        df[col].fillna(df[col].median(), inplace=True)\n",
    "        print(f\"Filled missing values in {col} with median.\")"
   ]
  },
  {
   "cell_type": "code",
   "execution_count": null,
   "metadata": {},
   "outputs": [
    {
     "name": "stdout",
     "output_type": "stream",
     "text": [
      "Filled missing values in sourceTCPFlagsDescription with mode.\n",
      "Filled missing values in destinationTCPFlagsDescription with mode.\n"
     ]
    },
    {
     "name": "stderr",
     "output_type": "stream",
     "text": [
      "C:\\Users\\sanke\\AppData\\Local\\Temp\\ipykernel_20200\\1200876302.py:3: FutureWarning: A value is trying to be set on a copy of a DataFrame or Series through chained assignment using an inplace method.\n",
      "The behavior will change in pandas 3.0. This inplace method will never work because the intermediate object on which we are setting values always behaves as a copy.\n",
      "\n",
      "For example, when doing 'df[col].method(value, inplace=True)', try using 'df.method({col: value}, inplace=True)' or df[col] = df[col].method(value) instead, to perform the operation inplace on the original object.\n",
      "\n",
      "\n",
      "  df[col].fillna(df[col].mode()[0], inplace=True)\n"
     ]
    }
   ],
   "source": [
    "for col in categorical_cols:\n",
    "    if df[col].isnull().sum() > 0:\n",
    "        df[col].fillna(df[col].mode()[0], inplace=True)\n",
    "        print(f\"Filled missing values in {col} with mode.\")\n"
   ]
  },
  {
   "cell_type": "markdown",
   "metadata": {},
   "source": [
    "Here the sourceTCPFlagsDescription is not being filled as it is not in \"yes,no\" format it is given as \"ggAAAAAAAFX/U01CcgAAAACYU8gAAAAAAAAAAAAAAAAAAP\" as some of the values ...so we will keep it as it is "
   ]
  },
  {
   "cell_type": "code",
   "execution_count": 11,
   "metadata": {},
   "outputs": [
    {
     "name": "stdout",
     "output_type": "stream",
     "text": [
      "\n",
      "Numeric columns normalized using Min-Max Scaling.\n"
     ]
    }
   ],
   "source": [
    "from sklearn.preprocessing import MinMaxScaler\n",
    "# Step 4: Normalize numeric columns\n",
    "scaler = MinMaxScaler()\n",
    "df[numeric_cols] = scaler.fit_transform(df[numeric_cols])\n",
    "print(\"\\nNumeric columns normalized using Min-Max Scaling.\")"
   ]
  },
  {
   "cell_type": "markdown",
   "metadata": {},
   "source": [
    "Here the numerical values have been converted \n"
   ]
  },
  {
   "cell_type": "code",
   "execution_count": null,
   "metadata": {},
   "outputs": [
    {
     "name": "stdout",
     "output_type": "stream",
     "text": [
      "\n",
      "Missing Values in Each Column:\n",
      "Series([], dtype: int64)\n"
     ]
    }
   ],
   "source": [
    "missing_values = df.isnull().sum()\n",
    "print(\"\\nMissing Values in Each Column:\")\n",
    "print(missing_values[missing_values > 0])\n",
    "\n",
    "#So now there are no missing values in this dataset and we can save this dataset "
   ]
  },
  {
   "cell_type": "code",
   "execution_count": 14,
   "metadata": {},
   "outputs": [
    {
     "name": "stdout",
     "output_type": "stream",
     "text": [
      "\n",
      "Preprocessing completed. Cleaned dataset saved.\n"
     ]
    }
   ],
   "source": [
    "# Save the cleaned dataset\n",
    "df.to_csv(\"preprocessed_dataset.csv\", index=False)\n",
    "print(\"\\nPreprocessing completed. Cleaned dataset saved.\")"
   ]
  },
  {
   "cell_type": "code",
   "execution_count": 15,
   "metadata": {},
   "outputs": [],
   "source": [
    "#now lets change our data to the cleaned one\n",
    "data='preprocessed_dataset.csv'\n",
    "df=pd.read_csv(data)"
   ]
  },
  {
   "cell_type": "markdown",
   "metadata": {},
   "source": [
    "## For feature selection i am going with the corelation matrix to find out which feature or attribute is the most corelated"
   ]
  },
  {
   "cell_type": "code",
   "execution_count": 17,
   "metadata": {},
   "outputs": [],
   "source": [
    "# Convert startDateTime & stopDateTime to datetime format\n",
    "df[\"startDateTime\"] = pd.to_datetime(df[\"startDateTime\"], errors='coerce')\n",
    "df[\"stopDateTime\"] = pd.to_datetime(df[\"stopDateTime\"], errors='coerce')"
   ]
  },
  {
   "cell_type": "code",
   "execution_count": null,
   "metadata": {},
   "outputs": [],
   "source": [
    "#Making a new feature for duration of date time diffence start-stop\n",
    "df[\"sessionDuration\"] = (df[\"stopDateTime\"] - df[\"startDateTime\"]).dt.total_seconds()\n"
   ]
  },
  {
   "cell_type": "code",
   "execution_count": 21,
   "metadata": {},
   "outputs": [
    {
     "data": {
      "text/html": [
       "<div>\n",
       "<style scoped>\n",
       "    .dataframe tbody tr th:only-of-type {\n",
       "        vertical-align: middle;\n",
       "    }\n",
       "\n",
       "    .dataframe tbody tr th {\n",
       "        vertical-align: top;\n",
       "    }\n",
       "\n",
       "    .dataframe thead th {\n",
       "        text-align: right;\n",
       "    }\n",
       "</style>\n",
       "<table border=\"1\" class=\"dataframe\">\n",
       "  <thead>\n",
       "    <tr style=\"text-align: right;\">\n",
       "      <th></th>\n",
       "      <th>generated</th>\n",
       "      <th>appName</th>\n",
       "      <th>totalSourceBytes</th>\n",
       "      <th>totalDestinationBytes</th>\n",
       "      <th>totalDestinationPackets</th>\n",
       "      <th>totalSourcePackets</th>\n",
       "      <th>direction</th>\n",
       "      <th>sourceTCPFlagsDescription</th>\n",
       "      <th>destinationTCPFlagsDescription</th>\n",
       "      <th>source</th>\n",
       "      <th>protocolName</th>\n",
       "      <th>sourcePort</th>\n",
       "      <th>destination</th>\n",
       "      <th>destinationPort</th>\n",
       "      <th>startDateTime</th>\n",
       "      <th>stopDateTime</th>\n",
       "      <th>Label</th>\n",
       "      <th>sessionDuration</th>\n",
       "    </tr>\n",
       "  </thead>\n",
       "  <tbody>\n",
       "    <tr>\n",
       "      <th>0</th>\n",
       "      <td>3/11/2014 18:21</td>\n",
       "      <td>Unknown_UDP</td>\n",
       "      <td>2.106180e-05</td>\n",
       "      <td>0.000000e+00</td>\n",
       "      <td>0.000000</td>\n",
       "      <td>0.000346</td>\n",
       "      <td>L2R</td>\n",
       "      <td>F,S,P,A</td>\n",
       "      <td>F,S,P,A</td>\n",
       "      <td>192.168.5.122</td>\n",
       "      <td>udp_ip</td>\n",
       "      <td>0.081683</td>\n",
       "      <td>224.0.0.251</td>\n",
       "      <td>0.081682</td>\n",
       "      <td>2010-06-13 23:57:00</td>\n",
       "      <td>2010-06-14 00:11:00</td>\n",
       "      <td>Normal</td>\n",
       "      <td>840.0</td>\n",
       "    </tr>\n",
       "    <tr>\n",
       "      <th>1</th>\n",
       "      <td>3/11/2014 18:21</td>\n",
       "      <td>HTTPImageTransfer</td>\n",
       "      <td>5.030935e-07</td>\n",
       "      <td>0.000000e+00</td>\n",
       "      <td>0.000000</td>\n",
       "      <td>0.000012</td>\n",
       "      <td>L2R</td>\n",
       "      <td>F,A</td>\n",
       "      <td>F,S,P,A</td>\n",
       "      <td>192.168.2.111</td>\n",
       "      <td>tcp_ip</td>\n",
       "      <td>0.067675</td>\n",
       "      <td>206.217.198.186</td>\n",
       "      <td>0.001221</td>\n",
       "      <td>2010-06-13 23:58:00</td>\n",
       "      <td>2010-06-14 00:01:00</td>\n",
       "      <td>Normal</td>\n",
       "      <td>180.0</td>\n",
       "    </tr>\n",
       "    <tr>\n",
       "      <th>2</th>\n",
       "      <td>3/11/2014 18:21</td>\n",
       "      <td>DNS</td>\n",
       "      <td>2.240338e-07</td>\n",
       "      <td>1.622853e-06</td>\n",
       "      <td>0.000007</td>\n",
       "      <td>0.000004</td>\n",
       "      <td>L2L</td>\n",
       "      <td>F,S,P,A</td>\n",
       "      <td>F,S,P,A</td>\n",
       "      <td>192.168.4.119</td>\n",
       "      <td>udp_ip</td>\n",
       "      <td>0.067568</td>\n",
       "      <td>192.168.5.122</td>\n",
       "      <td>0.000809</td>\n",
       "      <td>2010-06-13 23:58:00</td>\n",
       "      <td>2010-06-13 23:59:00</td>\n",
       "      <td>Normal</td>\n",
       "      <td>60.0</td>\n",
       "    </tr>\n",
       "    <tr>\n",
       "      <th>3</th>\n",
       "      <td>3/11/2014 18:21</td>\n",
       "      <td>HTTPImageTransfer</td>\n",
       "      <td>5.030935e-07</td>\n",
       "      <td>0.000000e+00</td>\n",
       "      <td>0.000000</td>\n",
       "      <td>0.000012</td>\n",
       "      <td>L2R</td>\n",
       "      <td>F,A</td>\n",
       "      <td>F,S,P,A</td>\n",
       "      <td>192.168.4.119</td>\n",
       "      <td>tcp_ip</td>\n",
       "      <td>0.055528</td>\n",
       "      <td>219.94.203.105</td>\n",
       "      <td>0.001221</td>\n",
       "      <td>2010-06-13 23:58:00</td>\n",
       "      <td>2010-06-14 00:00:00</td>\n",
       "      <td>Normal</td>\n",
       "      <td>120.0</td>\n",
       "    </tr>\n",
       "    <tr>\n",
       "      <th>4</th>\n",
       "      <td>3/11/2014 18:21</td>\n",
       "      <td>HTTPImageTransfer</td>\n",
       "      <td>2.436859e-07</td>\n",
       "      <td>3.235594e-07</td>\n",
       "      <td>0.000004</td>\n",
       "      <td>0.000004</td>\n",
       "      <td>L2R</td>\n",
       "      <td>F,P,A</td>\n",
       "      <td>R</td>\n",
       "      <td>192.168.4.119</td>\n",
       "      <td>tcp_ip</td>\n",
       "      <td>0.055559</td>\n",
       "      <td>98.137.80.50</td>\n",
       "      <td>0.001221</td>\n",
       "      <td>2010-06-13 23:58:00</td>\n",
       "      <td>2010-06-13 23:59:00</td>\n",
       "      <td>Normal</td>\n",
       "      <td>60.0</td>\n",
       "    </tr>\n",
       "  </tbody>\n",
       "</table>\n",
       "</div>"
      ],
      "text/plain": [
       "         generated            appName  totalSourceBytes  \\\n",
       "0  3/11/2014 18:21        Unknown_UDP      2.106180e-05   \n",
       "1  3/11/2014 18:21  HTTPImageTransfer      5.030935e-07   \n",
       "2  3/11/2014 18:21                DNS      2.240338e-07   \n",
       "3  3/11/2014 18:21  HTTPImageTransfer      5.030935e-07   \n",
       "4  3/11/2014 18:21  HTTPImageTransfer      2.436859e-07   \n",
       "\n",
       "   totalDestinationBytes  totalDestinationPackets  totalSourcePackets  \\\n",
       "0           0.000000e+00                 0.000000            0.000346   \n",
       "1           0.000000e+00                 0.000000            0.000012   \n",
       "2           1.622853e-06                 0.000007            0.000004   \n",
       "3           0.000000e+00                 0.000000            0.000012   \n",
       "4           3.235594e-07                 0.000004            0.000004   \n",
       "\n",
       "  direction sourceTCPFlagsDescription destinationTCPFlagsDescription  \\\n",
       "0       L2R                   F,S,P,A                        F,S,P,A   \n",
       "1       L2R                       F,A                        F,S,P,A   \n",
       "2       L2L                   F,S,P,A                        F,S,P,A   \n",
       "3       L2R                       F,A                        F,S,P,A   \n",
       "4       L2R                     F,P,A                              R   \n",
       "\n",
       "          source protocolName  sourcePort      destination  destinationPort  \\\n",
       "0  192.168.5.122       udp_ip    0.081683      224.0.0.251         0.081682   \n",
       "1  192.168.2.111       tcp_ip    0.067675  206.217.198.186         0.001221   \n",
       "2  192.168.4.119       udp_ip    0.067568    192.168.5.122         0.000809   \n",
       "3  192.168.4.119       tcp_ip    0.055528   219.94.203.105         0.001221   \n",
       "4  192.168.4.119       tcp_ip    0.055559     98.137.80.50         0.001221   \n",
       "\n",
       "        startDateTime        stopDateTime   Label  sessionDuration  \n",
       "0 2010-06-13 23:57:00 2010-06-14 00:11:00  Normal            840.0  \n",
       "1 2010-06-13 23:58:00 2010-06-14 00:01:00  Normal            180.0  \n",
       "2 2010-06-13 23:58:00 2010-06-13 23:59:00  Normal             60.0  \n",
       "3 2010-06-13 23:58:00 2010-06-14 00:00:00  Normal            120.0  \n",
       "4 2010-06-13 23:58:00 2010-06-13 23:59:00  Normal             60.0  "
      ]
     },
     "execution_count": 21,
     "metadata": {},
     "output_type": "execute_result"
    }
   ],
   "source": [
    "df.head()"
   ]
  },
  {
   "cell_type": "code",
   "execution_count": 27,
   "metadata": {},
   "outputs": [],
   "source": [
    "#these are all the nukeric coloums\n",
    "df_numeric = df.drop(columns=[\n",
    "    \"generated\", \"appName\", \"direction\", \"sourceTCPFlagsDescription\", \n",
    "    \"destinationTCPFlagsDescription\", \"source\", \"protocolName\", \n",
    "    \"destination\", \"startDateTime\", \"stopDateTime\", \"Label\"\n",
    "])\n"
   ]
  },
  {
   "cell_type": "code",
   "execution_count": 23,
   "metadata": {},
   "outputs": [],
   "source": [
    "df_numeric[\"sessionDuration\"] = df_numeric[\"sessionDuration\"].abs()\n"
   ]
  },
  {
   "cell_type": "code",
   "execution_count": 24,
   "metadata": {},
   "outputs": [],
   "source": [
    "import seaborn as sns\n",
    "import matplotlib.pyplot as plt\n",
    "import numpy as np"
   ]
  },
  {
   "cell_type": "code",
   "execution_count": 28,
   "metadata": {},
   "outputs": [
    {
     "data": {
      "image/png": "[encoded data removed]",
      "text/plain": [
       "<Figure size 800x600 with 2 Axes>"
      ]
     },
     "metadata": {},
     "output_type": "display_data"
    }
   ],
   "source": [
    "corr_matrix = df_numeric.corr()\n",
    "\n",
    "# Plot correlation heatmap\n",
    "plt.figure(figsize=(8, 6))\n",
    "sns.heatmap(corr_matrix, annot=True, cmap=\"coolwarm\", fmt=\".2f\")\n",
    "plt.title(\"Feature Correlation Heatmap\")\n",
    "plt.show()"
   ]
  },
  {
   "cell_type": "code",
   "execution_count": 29,
   "metadata": {},
   "outputs": [
    {
     "name": "stdout",
     "output_type": "stream",
     "text": [
      "       totalSourceBytes  totalDestinationBytes  totalDestinationPackets  \\\n",
      "count      1.713800e+05           1.713800e+05             1.713800e+05   \n",
      "mean       1.243802e-19          -1.492563e-18            -9.121216e-19   \n",
      "std        1.000003e+00           1.000003e+00             1.000003e+00   \n",
      "min       -3.327286e-03          -2.738339e-02            -2.108752e-02   \n",
      "25%       -3.257904e-03          -2.716039e-02            -2.045828e-02   \n",
      "50%       -3.112092e-03          -2.666432e-02            -1.794133e-02   \n",
      "75%       -2.910856e-03          -2.289753e-02            -1.416590e-02   \n",
      "max        4.137316e+02           3.000414e+02             3.386522e+02   \n",
      "\n",
      "       totalSourcePackets    sourcePort  destinationPort  sessionDuration  \n",
      "count        1.713800e+05  1.713800e+05     1.713800e+05     1.713800e+05  \n",
      "mean        -2.757095e-18  1.008309e-16     1.061378e-17     1.990084e-18  \n",
      "std          1.000003e+00  1.000003e+00     1.000003e+00     1.000003e+00  \n",
      "min         -1.700264e-02 -8.315355e-01    -2.142138e-01    -1.573027e-01  \n",
      "25%         -1.625160e-02 -7.265054e-01    -2.048355e-01    -1.573027e-01  \n",
      "50%         -1.324746e-02 -6.529450e-01    -2.048355e-01    -1.573027e-01  \n",
      "75%         -1.024332e-02  1.297294e+00    -2.048355e-01    -1.573027e-01  \n",
      "max          3.866119e+02  1.955404e+00     7.468348e+00     7.064196e+01  \n"
     ]
    }
   ],
   "source": [
    "#Now we can observe mostly source destination and packets are corelated others are not so we need to deal with them only \n",
    "#now we also need to do feature selection and scaling\n",
    "from sklearn.preprocessing import StandardScaler\n",
    "\n",
    "scaler = StandardScaler()\n",
    "df_scaled = pd.DataFrame(scaler.fit_transform(df_numeric), columns=df_numeric.columns)\n",
    "print(df_scaled.describe())\n"
   ]
  },
  {
   "cell_type": "markdown",
   "metadata": {},
   "source": [
    "# Now for the next step Model selection and training"
   ]
  },
  {
   "cell_type": "code",
   "execution_count": 30,
   "metadata": {},
   "outputs": [
    {
     "name": "stdout",
     "output_type": "stream",
     "text": [
      "Training Data Shape: (137104, 7) (137104,)\n",
      "Testing Data Shape: (34276, 7) (34276,)\n"
     ]
    }
   ],
   "source": [
    "#splitting the dataset\n",
    "from sklearn.model_selection import train_test_split\n",
    "\n",
    "X = df_scaled  \n",
    "y = df[\"Label\"]  \n",
    "\n",
    "# Split dataset into 80% training & 20% testing\n",
    "X_train, X_test, y_train, y_test = train_test_split(X, y, test_size=0.2, random_state=42, stratify=y)\n",
    "\n",
    "print(\"Training Data Shape:\", X_train.shape, y_train.shape)\n",
    "print(\"Testing Data Shape:\", X_test.shape, y_test.shape)\n"
   ]
  },
  {
   "cell_type": "code",
   "execution_count": 34,
   "metadata": {},
   "outputs": [],
   "source": [
    "# Random Forest for the first so as to get descision trees setup and good accuracy"
   ]
  },
  {
   "cell_type": "code",
   "execution_count": 35,
   "metadata": {},
   "outputs": [
    {
     "name": "stdout",
     "output_type": "stream",
     "text": [
      "🔹 Random Forest Classification Report:\n",
      "               precision    recall  f1-score   support\n",
      "\n",
      "      Attack       0.98      0.97      0.98       755\n",
      "      Normal       1.00      1.00      1.00     33521\n",
      "\n",
      "    accuracy                           1.00     34276\n",
      "   macro avg       0.99      0.99      0.99     34276\n",
      "weighted avg       1.00      1.00      1.00     34276\n",
      "\n",
      "Random Forest Accuracy: 0.9991\n"
     ]
    }
   ],
   "source": [
    "from sklearn.ensemble import RandomForestClassifier\n",
    "from sklearn.metrics import accuracy_score, classification_report, confusion_matrix\n",
    "\n",
    "# Initialize & Train RF Model\n",
    "rf_model = RandomForestClassifier(n_estimators=100, random_state=42)\n",
    "rf_model.fit(X_train, y_train)\n",
    "\n",
    "# Predictions\n",
    "y_pred_rf = rf_model.predict(X_test)\n",
    "\n",
    "# Evaluate\n",
    "print(\"🔹 Random Forest Classification Report:\\n\", classification_report(y_test, y_pred_rf))\n",
    "rf_accuracy = accuracy_score(y_test, y_pred_rf)\n",
    "print(f\"Random Forest Accuracy: {rf_accuracy:.4f}\")\n"
   ]
  },
  {
   "cell_type": "code",
   "execution_count": 46,
   "metadata": {},
   "outputs": [],
   "source": [
    "#Feature importance for Random forest"
   ]
  },
  {
   "cell_type": "code",
   "execution_count": 47,
   "metadata": {},
   "outputs": [
    {
     "name": "stderr",
     "output_type": "stream",
     "text": [
      "c:\\Users\\sanke\\AppData\\Local\\Programs\\Python\\Python312\\Lib\\site-packages\\IPython\\core\\pylabtools.py:170: UserWarning: Glyph 128313 (\\N{SMALL BLUE DIAMOND}) missing from font(s) DejaVu Sans.\n",
      "  fig.canvas.print_figure(bytes_io, **kw)\n"
     ]
    },
    {
     "data": {
      "image/png": "[encoded data removed]",
      "text/plain": [
       "<Figure size 800x500 with 1 Axes>"
      ]
     },
     "metadata": {},
     "output_type": "display_data"
    }
   ],
   "source": [
    "importances = rf_model.feature_importances_\n",
    "feature_names = X_train.columns\n",
    "\n",
    "# Plot Feature Importance\n",
    "plt.figure(figsize=(8, 5))\n",
    "sns.barplot(x=importances, y=feature_names)\n",
    "plt.xlabel(\"Feature Importance\")\n",
    "plt.ylabel(\"Feature Names\")\n",
    "plt.title(\"🔹 Random Forest Feature Importance\")\n",
    "plt.show()\n"
   ]
  },
  {
   "cell_type": "markdown",
   "metadata": {},
   "source": [
    "# Using a simple 3 layered ANN to make predictions with 3 dense layers "
   ]
  },
  {
   "cell_type": "code",
   "execution_count": 39,
   "metadata": {},
   "outputs": [
    {
     "name": "stdout",
     "output_type": "stream",
     "text": [
      "totalSourceBytes           float64\n",
      "totalDestinationBytes      float64\n",
      "totalDestinationPackets    float64\n",
      "totalSourcePackets         float64\n",
      "sourcePort                 float64\n",
      "destinationPort            float64\n",
      "sessionDuration            float64\n",
      "dtype: object\n",
      "totalSourceBytes           float64\n",
      "totalDestinationBytes      float64\n",
      "totalDestinationPackets    float64\n",
      "totalSourcePackets         float64\n",
      "sourcePort                 float64\n",
      "destinationPort            float64\n",
      "sessionDuration            float64\n",
      "dtype: object\n"
     ]
    }
   ],
   "source": [
    "print(X_train.dtypes)\n",
    "print(X_test.dtypes)\n"
   ]
  },
  {
   "cell_type": "code",
   "execution_count": null,
   "metadata": {},
   "outputs": [],
   "source": [
    "# making values in 0/1 for binary classification\n",
    "#There are still some values with non standated encoding so doing it again\n",
    "from sklearn.preprocessing import LabelEncoder\n",
    "\n",
    "le = LabelEncoder()\n",
    "y_train = le.fit_transform(y_train)\n",
    "y_test = le.transform(y_test)\n"
   ]
  },
  {
   "cell_type": "code",
   "execution_count": 43,
   "metadata": {},
   "outputs": [
    {
     "name": "stdout",
     "output_type": "stream",
     "text": [
      "Epoch 1/20\n"
     ]
    },
    {
     "name": "stderr",
     "output_type": "stream",
     "text": [
      "c:\\Users\\sanke\\AppData\\Local\\Programs\\Python\\Python312\\Lib\\site-packages\\keras\\src\\layers\\core\\dense.py:87: UserWarning: Do not pass an `input_shape`/`input_dim` argument to a layer. When using Sequential models, prefer using an `Input(shape)` object as the first layer in the model instead.\n",
      "  super().__init__(activity_regularizer=activity_regularizer, **kwargs)\n"
     ]
    },
    {
     "name": "stdout",
     "output_type": "stream",
     "text": [
      "\u001b[1m4285/4285\u001b[0m \u001b[32m━━━━━━━━━━━━━━━━━━━━\u001b[0m\u001b[37m\u001b[0m \u001b[1m10s\u001b[0m 2ms/step - accuracy: 0.9590 - loss: 0.1437 - val_accuracy: 0.9780 - val_loss: 0.0951\n",
      "Epoch 2/20\n",
      "\u001b[1m4285/4285\u001b[0m \u001b[32m━━━━━━━━━━━━━━━━━━━━\u001b[0m\u001b[37m\u001b[0m \u001b[1m8s\u001b[0m 2ms/step - accuracy: 0.9779 - loss: 0.0895 - val_accuracy: 0.9794 - val_loss: 0.0884\n",
      "Epoch 3/20\n",
      "\u001b[1m4285/4285\u001b[0m \u001b[32m━━━━━━━━━━━━━━━━━━━━\u001b[0m\u001b[37m\u001b[0m \u001b[1m9s\u001b[0m 2ms/step - accuracy: 0.9799 - loss: 0.0833 - val_accuracy: 0.9821 - val_loss: 0.0811\n",
      "Epoch 4/20\n",
      "\u001b[1m4285/4285\u001b[0m \u001b[32m━━━━━━━━━━━━━━━━━━━━\u001b[0m\u001b[37m\u001b[0m \u001b[1m11s\u001b[0m 2ms/step - accuracy: 0.9821 - loss: 0.0770 - val_accuracy: 0.9827 - val_loss: 0.0765\n",
      "Epoch 5/20\n",
      "\u001b[1m4285/4285\u001b[0m \u001b[32m━━━━━━━━━━━━━━━━━━━━\u001b[0m\u001b[37m\u001b[0m \u001b[1m9s\u001b[0m 2ms/step - accuracy: 0.9831 - loss: 0.0706 - val_accuracy: 0.9830 - val_loss: 0.0729\n",
      "Epoch 6/20\n",
      "\u001b[1m4285/4285\u001b[0m \u001b[32m━━━━━━━━━━━━━━━━━━━━\u001b[0m\u001b[37m\u001b[0m \u001b[1m11s\u001b[0m 2ms/step - accuracy: 0.9837 - loss: 0.0674 - val_accuracy: 0.9835 - val_loss: 0.0684\n",
      "Epoch 7/20\n",
      "\u001b[1m4285/4285\u001b[0m \u001b[32m━━━━━━━━━━━━━━━━━━━━\u001b[0m\u001b[37m\u001b[0m \u001b[1m9s\u001b[0m 2ms/step - accuracy: 0.9834 - loss: 0.0671 - val_accuracy: 0.9845 - val_loss: 0.0667\n",
      "Epoch 8/20\n",
      "\u001b[1m4285/4285\u001b[0m \u001b[32m━━━━━━━━━━━━━━━━━━━━\u001b[0m\u001b[37m\u001b[0m \u001b[1m9s\u001b[0m 2ms/step - accuracy: 0.9834 - loss: 0.0669 - val_accuracy: 0.9835 - val_loss: 0.0655\n",
      "Epoch 9/20\n",
      "\u001b[1m4285/4285\u001b[0m \u001b[32m━━━━━━━━━━━━━━━━━━━━\u001b[0m\u001b[37m\u001b[0m \u001b[1m10s\u001b[0m 2ms/step - accuracy: 0.9837 - loss: 0.0646 - val_accuracy: 0.9810 - val_loss: 0.0679\n",
      "Epoch 10/20\n",
      "\u001b[1m4285/4285\u001b[0m \u001b[32m━━━━━━━━━━━━━━━━━━━━\u001b[0m\u001b[37m\u001b[0m \u001b[1m9s\u001b[0m 2ms/step - accuracy: 0.9840 - loss: 0.0626 - val_accuracy: 0.9830 - val_loss: 0.0662\n",
      "Epoch 11/20\n",
      "\u001b[1m4285/4285\u001b[0m \u001b[32m━━━━━━━━━━━━━━━━━━━━\u001b[0m\u001b[37m\u001b[0m \u001b[1m8s\u001b[0m 2ms/step - accuracy: 0.9837 - loss: 0.0639 - val_accuracy: 0.9837 - val_loss: 0.0656\n",
      "Epoch 12/20\n",
      "\u001b[1m4285/4285\u001b[0m \u001b[32m━━━━━━━━━━━━━━━━━━━━\u001b[0m\u001b[37m\u001b[0m \u001b[1m8s\u001b[0m 2ms/step - accuracy: 0.9842 - loss: 0.0613 - val_accuracy: 0.9845 - val_loss: 0.0600\n",
      "Epoch 13/20\n",
      "\u001b[1m4285/4285\u001b[0m \u001b[32m━━━━━━━━━━━━━━━━━━━━\u001b[0m\u001b[37m\u001b[0m \u001b[1m9s\u001b[0m 2ms/step - accuracy: 0.9838 - loss: 0.0609 - val_accuracy: 0.9840 - val_loss: 0.0578\n",
      "Epoch 14/20\n",
      "\u001b[1m4285/4285\u001b[0m \u001b[32m━━━━━━━━━━━━━━━━━━━━\u001b[0m\u001b[37m\u001b[0m \u001b[1m9s\u001b[0m 2ms/step - accuracy: 0.9846 - loss: 0.0588 - val_accuracy: 0.9835 - val_loss: 0.0583\n",
      "Epoch 15/20\n",
      "\u001b[1m4285/4285\u001b[0m \u001b[32m━━━━━━━━━━━━━━━━━━━━\u001b[0m\u001b[37m\u001b[0m \u001b[1m9s\u001b[0m 2ms/step - accuracy: 0.9843 - loss: 0.0596 - val_accuracy: 0.9841 - val_loss: 0.0588\n",
      "Epoch 16/20\n",
      "\u001b[1m4285/4285\u001b[0m \u001b[32m━━━━━━━━━━━━━━━━━━━━\u001b[0m\u001b[37m\u001b[0m \u001b[1m8s\u001b[0m 2ms/step - accuracy: 0.9840 - loss: 0.0589 - val_accuracy: 0.9828 - val_loss: 0.0600\n",
      "Epoch 17/20\n",
      "\u001b[1m4285/4285\u001b[0m \u001b[32m━━━━━━━━━━━━━━━━━━━━\u001b[0m\u001b[37m\u001b[0m \u001b[1m8s\u001b[0m 2ms/step - accuracy: 0.9846 - loss: 0.0577 - val_accuracy: 0.9837 - val_loss: 0.0564\n",
      "Epoch 18/20\n",
      "\u001b[1m4285/4285\u001b[0m \u001b[32m━━━━━━━━━━━━━━━━━━━━\u001b[0m\u001b[37m\u001b[0m \u001b[1m8s\u001b[0m 2ms/step - accuracy: 0.9841 - loss: 0.0573 - val_accuracy: 0.9837 - val_loss: 0.0570\n",
      "Epoch 19/20\n",
      "\u001b[1m4285/4285\u001b[0m \u001b[32m━━━━━━━━━━━━━━━━━━━━\u001b[0m\u001b[37m\u001b[0m \u001b[1m9s\u001b[0m 2ms/step - accuracy: 0.9845 - loss: 0.0568 - val_accuracy: 0.9831 - val_loss: 0.0631\n",
      "Epoch 20/20\n",
      "\u001b[1m4285/4285\u001b[0m \u001b[32m━━━━━━━━━━━━━━━━━━━━\u001b[0m\u001b[37m\u001b[0m \u001b[1m9s\u001b[0m 2ms/step - accuracy: 0.9849 - loss: 0.0551 - val_accuracy: 0.9848 - val_loss: 0.0552\n",
      "\u001b[1m1072/1072\u001b[0m \u001b[32m━━━━━━━━━━━━━━━━━━━━\u001b[0m\u001b[37m\u001b[0m \u001b[1m1s\u001b[0m 1ms/step\n",
      "Accuracy: 0.9847706850274245\n",
      "              precision    recall  f1-score   support\n",
      "\n",
      "           0       0.94      0.33      0.49       755\n",
      "           1       0.99      1.00      0.99     33521\n",
      "\n",
      "    accuracy                           0.98     34276\n",
      "   macro avg       0.96      0.67      0.74     34276\n",
      "weighted avg       0.98      0.98      0.98     34276\n",
      "\n"
     ]
    }
   ],
   "source": [
    "import tensorflow as tf\n",
    "from tensorflow.keras.models import Sequential\n",
    "from tensorflow.keras.layers import Dense\n",
    "from sklearn.preprocessing import LabelEncoder\n",
    "import numpy as np\n",
    "\n",
    "# Ensure y_train & y_test are numeric\n",
    "le = LabelEncoder()\n",
    "y_train = le.fit_transform(y_train)  # 'Normal' -> 0, 'Attack' -> 1\n",
    "y_test = le.transform(y_test)\n",
    "\n",
    "# Define ANN Architecture\n",
    "ann_model = Sequential([\n",
    "    Dense(32, activation=\"relu\", input_shape=(X_train.shape[1],)),\n",
    "    Dense(16, activation=\"relu\"),\n",
    "    Dense(1, activation=\"sigmoid\")  # Use sigmoid for binary classification\n",
    "])\n",
    "\n",
    "# Compile Model\n",
    "ann_model.compile(optimizer=\"adam\", loss=\"binary_crossentropy\", metrics=[\"accuracy\"])\n",
    "\n",
    "# Train the Model\n",
    "ann_model.fit(X_train, y_train, epochs=20, batch_size=32, validation_data=(X_test, y_test), verbose=1)\n",
    "\n",
    "# Predict & Convert to 0/1\n",
    "y_pred = ann_model.predict(X_test)\n",
    "y_pred = (y_pred > 0.5).astype(int)  # Convert probabilities to 0 or 1\n",
    "\n",
    "# Evaluate Model\n",
    "from sklearn.metrics import accuracy_score, classification_report\n",
    "\n",
    "print(\"Accuracy:\", accuracy_score(y_test, y_pred))\n",
    "print(classification_report(y_test, y_pred))\n"
   ]
  },
  {
   "cell_type": "code",
   "execution_count": 45,
   "metadata": {},
   "outputs": [
    {
     "name": "stdout",
     "output_type": "stream",
     "text": [
      "ANN classification report :\n",
      "              precision    recall  f1-score   support\n",
      "\n",
      "           0       0.94      0.33      0.49       755\n",
      "           1       0.99      1.00      0.99     33521\n",
      "\n",
      "    accuracy                           0.98     34276\n",
      "   macro avg       0.96      0.67      0.74     34276\n",
      "weighted avg       0.98      0.98      0.98     34276\n",
      "\n"
     ]
    }
   ],
   "source": [
    "print(\"ANN classification report :\")\n",
    "print(classification_report(y_test, y_pred))\n"
   ]
  },
  {
   "cell_type": "code",
   "execution_count": 49,
   "metadata": {},
   "outputs": [
    {
     "data": {
      "image/png": "[encoded data removed]",
      "text/plain": [
       "<Figure size 600x400 with 2 Axes>"
      ]
     },
     "metadata": {},
     "output_type": "display_data"
    }
   ],
   "source": [
    "import matplotlib.pyplot as plt\n",
    "import seaborn as sns\n",
    "from sklearn.metrics import confusion_matrix, classification_report\n",
    "\n",
    "# Compute Confusion Matrix\n",
    "cm = confusion_matrix(y_test, y_pred)\n",
    "\n",
    "# Plot Confusion Matrix\n",
    "plt.figure(figsize=(6, 4))\n",
    "sns.heatmap(cm, annot=True, fmt=\"d\", cmap=\"Blues\", xticklabels=[\"Normal\", \"Attack\"], yticklabels=[\"Normal\", \"Attack\"])\n",
    "plt.xlabel(\"Predicted Label\")\n",
    "plt.ylabel(\"True Label\")\n",
    "plt.title(\"Confusion Matrix\")\n",
    "plt.show()\n"
   ]
  },
  {
   "cell_type": "code",
   "execution_count": null,
   "metadata": {},
   "outputs": [],
   "source": []
  },
  {
   "cell_type": "code",
   "execution_count": null,
   "metadata": {},
   "outputs": [],
   "source": []
  }
 ],
 "metadata": {
  "kernelspec": {
   "display_name": "Python 3",
   "language": "python",
   "name": "python3"
  },
  "language_info": {
   "codemirror_mode": {
    "name": "ipython",
    "version": 3
   },
   "file_extension": ".py",
   "mimetype": "text/x-python",
   "name": "python",
   "nbconvert_exporter": "python",
   "pygments_lexer": "ipython3",
   "version": "3.12.2"
  }
 },
 "nbformat": 4,
 "nbformat_minor": 2
}
